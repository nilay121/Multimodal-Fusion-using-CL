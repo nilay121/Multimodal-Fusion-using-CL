{
 "cells": [
  {
   "cell_type": "code",
   "execution_count": 3,
   "metadata": {},
   "outputs": [
    {
     "name": "stderr",
     "output_type": "stream",
     "text": [
      "/home/nilay/.local/lib/python3.8/site-packages/tqdm/auto.py:21: TqdmWarning: IProgress not found. Please update jupyter and ipywidgets. See https://ipywidgets.readthedocs.io/en/stable/user_install.html\n",
      "  from .autonotebook import tqdm as notebook_tqdm\n"
     ]
    }
   ],
   "source": [
    "import numpy as np\n",
    "import torch\n",
    "from torch import nn\n",
    "# from imgFE import imgFE\n",
    "# from gripperFE import gripperFE"
   ]
  },
  {
   "cell_type": "code",
   "execution_count": 1,
   "metadata": {},
   "outputs": [],
   "source": [
    "import rospy\n",
    "import serial\n",
    "import struct\n",
    "import time\n",
    "import numpy as np\n",
    "from std_msgs.msg import Float32\n",
    "import serial.tools.list_ports as ports\n",
    "\n",
    "class controlBox_pressure:\n",
    "    def __init__(self):\n",
    "        # ------------------------ CONSTANTS ------------------------ #\n",
    "        self.PMAX = 13 # which maps to about 1.4 bars\n",
    "        self.arduinoPB = None\n",
    "\n",
    "    def set_communication(self, aportPB, baudrate):\n",
    "        try:\n",
    "            self.arduinoPB = serial.Serial( \n",
    "                                port=aportPB,\n",
    "                                baudrate=baudrate,\n",
    "                                timeout=0.1 \n",
    "                                )\n",
    "            self.arduinoPB.isOpen() # try to open port\n",
    "            print (\"Valve is opened!\")\n",
    "        except IOError: # if port is already opened, close it and open it again and print message\n",
    "            self.arduinoPB.close()\n",
    "            self.arduinoPB.open()\n",
    "            print (\"Valve was already open, was closed and opened again!\")\n",
    "\n",
    "    ## Send values to the Pressure Box\n",
    "    def send_values(self, U1, U2, U3, L1, L2, L3, G, PMAX):\n",
    "        if U1 > PMAX or U2 > PMAX or U3 > PMAX or L1 > PMAX or L2 > PMAX or L3 > PMAX or G > 1:\n",
    "            print(\"Pressure out of range\")\n",
    "            return\n",
    "\n",
    "        packet = np.array([106,U1,U2,U3,L1,L2,L3,G],dtype = np.uint8)\n",
    "        \n",
    "        if self.arduinoPB.isOpen():\n",
    "            for value in packet : \n",
    "                s = struct.pack('!{0}B'.format(len(packet)), *packet)\n",
    "                self.arduinoPB.write(s)\n",
    "    \n",
    "    def valve_shutdown(self):\n",
    "        print(\"Closing the valve!!\")\n",
    "        self.send_values(0,0,0,0,0,0,0,self.PMAX) # Release the object\n",
    "        self.arduinoPB.close()        \n",
    "\n",
    "    def actuate_finger(self, cycles, pressure_value, aportPB, baudrate, PMAX):\n",
    "        try:\n",
    "            start_time = time.time()\n",
    "            for cycle in range(cycles):\n",
    "                self.set_communication(aportPB, baudrate) # open the port\n",
    "                self.send_values(pressure_value,0,0,0,0,0,0,PMAX)  # Open the valve V1 and grasp the object\n",
    "                self.send_values(0,0,0,0,0,0,0,PMAX) # Release the object\n",
    "                self.arduinoPB.close() # close the valve\n",
    "    \n",
    "            end_time = time.time()\n",
    "            total_time = (end_time - start_time)\n",
    "            print(f\"Total time taken for the experiment is {total_time}\")\n",
    "\n",
    "        except Exception as e:\n",
    "            print(f\"Error encountered while sending value to control Box, closing the port!!\")\n",
    "            self.send_values(0,0,0,0,0,0,0,PMAX) # Release the object\n",
    "            self.arduinoPB.close()"
   ]
  },
  {
   "cell_type": "code",
   "execution_count": 2,
   "metadata": {},
   "outputs": [
    {
     "name": "stdout",
     "output_type": "stream",
     "text": [
      "Valve is opened!\n",
      "Closing the valve!!\n"
     ]
    }
   ],
   "source": [
    "frequency = 0.1 # 20 hz\n",
    "baudrate = 115200\n",
    "cycles = 3\n",
    "pressure_value = 10\n",
    "PMAX = 13\n",
    "port = '/dev/ttyACM1'\n",
    "g = controlBox_pressure()\n",
    "g.set_communication(port, baudrate)\n",
    "g.valve_shutdown()"
   ]
  },
  {
   "cell_type": "code",
   "execution_count": null,
   "metadata": {},
   "outputs": [],
   "source": []
  }
 ],
 "metadata": {
  "kernelspec": {
   "display_name": "Python 3",
   "language": "python",
   "name": "python3"
  },
  "language_info": {
   "codemirror_mode": {
    "name": "ipython",
    "version": 3
   },
   "file_extension": ".py",
   "mimetype": "text/x-python",
   "name": "python",
   "nbconvert_exporter": "python",
   "pygments_lexer": "ipython3",
   "version": "3.8.10"
  }
 },
 "nbformat": 4,
 "nbformat_minor": 2
}
